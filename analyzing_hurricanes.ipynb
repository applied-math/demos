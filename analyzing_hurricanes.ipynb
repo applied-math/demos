{
 "cells": [
  {
   "cell_type": "code",
   "execution_count": null,
   "metadata": {},
   "outputs": [],
   "source": [
    "%matplotlib inline\n",
    "import numpy\n",
    "import matplotlib.pyplot as plt\n",
    "import cartopy.crs as ccrs        #import projections\n",
    "import cartopy.feature as cfeature      #import features"
   ]
  },
  {
   "cell_type": "markdown",
   "metadata": {},
   "source": [
    "# Computational Mathematics\n",
    "\n",
    "Study of how we use computers to solve equations.  This includes:\n",
    " - Predicting the weather and climate change\n",
    " - Design of cars, airplanes and rockets\n",
    " - Data science and machine learning\n",
    " \n",
    "All of these applications require the use of \n",
    " - Linear algebra\n",
    " - Statistics\n",
    " - Calculus"
   ]
  },
  {
   "cell_type": "markdown",
   "metadata": {},
   "source": [
    "## Hurricanes in the Atlantic\n",
    "\n",
    "Today we're going to visualize hurricanes by using historical tracks of hurricanes in the Atlantic ocean since 1950. Take a look at our dataset [here](https://raw.githubusercontent.com/applied-math/demos/master/hurdat2-1851-2020-052921.txt). "
   ]
  },
  {
   "cell_type": "markdown",
   "metadata": {},
   "source": [
    "## Maps"
   ]
  },
  {
   "cell_type": "code",
   "execution_count": null,
   "metadata": {},
   "outputs": [],
   "source": [
    "#simple map\n",
    "plt.figure(figsize=(15,9))\n",
    "central_lat = 30 \n",
    "central_lon = -70 \n",
    "ax = plt.axes(projection=ccrs.LambertConformal(central_lon, central_lat)) \n",
    "ax.set_extent([-100, -40, 5, 57]) \n",
    "\n",
    "ax.add_feature(cfeature.LAND, edgecolor='black')\n",
    "gl=ax.gridlines(draw_labels = True, x_inline=False, y_inline=False)\n",
    "gl.top_labels = False\n",
    "\n",
    "ax.set_title('Atlantic Hurricane Tracks (1950-2012)')\n",
    "plt.show()"
   ]
  },
  {
   "cell_type": "markdown",
   "metadata": {},
   "source": [
    "Play around with the code. Here some questions to help you get started. \n",
    " - What happens when you delete `mapping.drawcoastlines()` from the map? \n",
    " - What happens when you change the figure size? \n",
    " - Can you change the colors?"
   ]
  },
  {
   "cell_type": "markdown",
   "metadata": {},
   "source": [
    "## Loading Data \n",
    "\n",
    "First we need to load the data from the text file."
   ]
  },
  {
   "cell_type": "code",
   "execution_count": null,
   "metadata": {},
   "outputs": [],
   "source": [
    "hurricanes = {}\n",
    "\n",
    "with open(\"./hurdat2-1851-2020-052921.txt\", 'r') as hurdat_data:\n",
    "    for line in hurdat_data:\n",
    "        split_data = line.split(\",\")\n",
    "\n",
    "        # Header line\n",
    "        if split_data[0][:2] == \"AL\":\n",
    "            name = split_data[1].lstrip()\n",
    "            N = int(split_data[2])\n",
    "            \n",
    "        if name == \"UNNAMED\":\n",
    "            # Skip this storm\n",
    "            for i in range(N):\n",
    "                line = hurdat_data.readline()\n",
    "        else:\n",
    "            i = 0\n",
    "            while name in hurricanes.keys():\n",
    "                i += 1\n",
    "                name += str(i)\n",
    "                if name in hurricanes.keys():\n",
    "                    name = name[:-1]\n",
    "            hurricanes[name] = {'year': None, \n",
    "                                'month': numpy.empty(N, dtype=int), \n",
    "                                'day': numpy.empty(N, dtype=int), \n",
    "                                'hour': numpy.empty(N, dtype=int), \n",
    "                                'latitude': numpy.empty(N), \n",
    "                                'longitude': numpy.empty(N), \n",
    "                                'wind_speed': numpy.empty(N), \n",
    "                                'pressure': numpy.empty(N), \n",
    "                                'category': numpy.empty(N, dtype=int)}\n",
    "            \n",
    "            # Read data\n",
    "            for i in range(N):\n",
    "                line = hurdat_data.readline()\n",
    "                if len(line.strip()) == 0:\n",
    "                    break\n",
    "                split_data = line.split(\",\")\n",
    "\n",
    "                hurricanes[name]['year'] = int(split_data[0][:4])\n",
    "                hurricanes[name][\"month\"][i] = int(split_data[0][4:6])\n",
    "                hurricanes[name][\"day\"][i] = int(split_data[0][6:8])\n",
    "                hurricanes[name][\"hour\"][i] = int(split_data[1])\n",
    "                hurricanes[name][\"latitude\"][i] = float(split_data[4][:-1])\n",
    "                hurricanes[name][\"longitude\"][i] = -float(split_data[5][:-1])\n",
    "                hurricanes[name][\"wind_speed\"][i] = float(split_data[6])\n",
    "                hurricanes[name][\"pressure\"][i] = float(split_data[7])\n",
    "                \n",
    "                # Categorize hurricanes (wind speed in knots)\n",
    "                if (hurricanes[name][\"wind_speed\"][i] >= 64 and \n",
    "                                        hurricanes[name][\"wind_speed\"][i] < 83):\n",
    "                    hurricanes[name][\"category\"][i] = 1\n",
    "                elif (hurricanes[name][\"wind_speed\"][i] >= 83 and\n",
    "                                        hurricanes[name][\"wind_speed\"][i] < 96):\n",
    "                    hurricanes[name][\"category\"][i] = 2\n",
    "                elif (hurricanes[name][\"wind_speed\"][i] >= 96 and \n",
    "                                        hurricanes[name][\"wind_speed\"][i] < 113):\n",
    "                    hurricanes[name][\"category\"][i] = 3\n",
    "                elif (hurricanes[name][\"wind_speed\"][i] >= 113 and \n",
    "                                        hurricanes[name][\"wind_speed\"][i] < 135):\n",
    "                    hurricanes[name][\"category\"][i] = 4\n",
    "                elif hurricanes[name][\"wind_speed\"][i] >= 135:\n",
    "                    hurricanes[name][\"category\"][i] = 5\n",
    "                else:\n",
    "                    hurricanes[name][\"category\"][i] = 0\n",
    "\n",
    "# Count hurricanes\n",
    "base_year = 3000\n",
    "for name in hurricanes.keys():\n",
    "    base_year = min(base_year, hurricanes[name]['year'])\n",
    "num_hurricanes = numpy.zeros(2021 - base_year, dtype=int)\n",
    "for name in hurricanes.keys():\n",
    "    num_hurricanes[hurricanes[name]['year'] - base_year] += 1"
   ]
  },
  {
   "cell_type": "markdown",
   "metadata": {},
   "source": [
    "\n",
    "\n",
    "\n",
    "\n",
    "#### Now let's plot the data onto the map. \n",
    "\n",
    "\n",
    "\n",
    "\n"
   ]
  },
  {
   "cell_type": "code",
   "execution_count": null,
   "metadata": {},
   "outputs": [],
   "source": [
    "# Plot the data\n",
    "fig = plt.figure(figsize=(15,9))\n",
    "central_lat = 30 \n",
    "central_lon = -70 \n",
    "ax = plt.axes(projection=ccrs.LambertConformal(central_lon, central_lat)) \n",
    "ax.set_extent([-100, -40, 5, 57]) \n",
    "ax.add_feature(cfeature.LAND, edgecolor='black')\n",
    "\n",
    "gl=ax.gridlines(draw_labels = True, x_inline=False, y_inline=False)\n",
    "gl.top_labels = False\n",
    "ax.set_title('Atlantic Hurricane Tracks (1950-2021)')\n",
    "\n",
    "for (name, data) in iter(hurricanes.items()):\n",
    "    longitude = data['longitude']\n",
    "    latitude = data['latitude']\n",
    "    ax.plot(longitude, latitude, linewidth=1.5, color='r', transform = ccrs.Geodetic())\n",
    "   \n",
    "plt.show()"
   ]
  },
  {
   "cell_type": "code",
   "execution_count": null,
   "metadata": {},
   "outputs": [],
   "source": [
    "# Plot the data\n",
    "category_color = {5:'red', 4:'yellow', 3:'orange', 2:'green', 1:'blue', 0:'gray'}\n",
    "\n",
    "plt.figure(figsize=(15,9))\n",
    "central_lat = 30 \n",
    "central_lon = -70 \n",
    "ax = plt.axes(projection=ccrs.LambertConformal(central_lon, central_lat)) \n",
    "ax.set_extent([-100, -40, 5, 57]) \n",
    "ax.add_feature(cfeature.LAND, edgecolor='black')\n",
    "\n",
    "gl=ax.gridlines(draw_labels = True, x_inline=False, y_inline=False)\n",
    "gl.top_labels = False\n",
    "ax.set_title('Atlantic Hurricane Tracks (1950-2021)')\n",
    "\n",
    "for (name, data) in iter(hurricanes.items()):\n",
    "    longitude = data['longitude']\n",
    "    latitude = data['latitude']\n",
    "    for i in range(len(longitude) - 1):\n",
    "        color = category_color[data['category'][i]]\n",
    "        ax.plot(longitude[i:i+2], latitude[i:i+2], linewidth=1.5, color=color, transform = ccrs.Geodetic())\n",
    "\n",
    "for (category, color) in iter(category_color.items()):\n",
    "    ax.plot([0], [0], color=color, label=\"Category %s\" % category)\n",
    "ax.legend(loc=2)\n",
    "\n",
    "plt.show()"
   ]
  },
  {
   "cell_type": "markdown",
   "metadata": {},
   "source": [
    "The data is still pretty hard to discern as it looks like colorful spaghetti.  We can ask more specific questions such as \n",
    " - Which storms happened in 2010?\n",
    " - What storms were category 3 or above?\n",
    " - Where did Hurricane Sandy go?"
   ]
  },
  {
   "cell_type": "code",
   "execution_count": null,
   "metadata": {},
   "outputs": [],
   "source": [
    "# Plot the data\n",
    "category_color = {5:'red', 4:'yellow', 3:'orange', 2:'green', 1:'blue', 0:'gray'}\n",
    "\n",
    "plt.figure(figsize=(15,9))\n",
    "central_lat = 30 \n",
    "central_lon = -70 \n",
    "ax = plt.axes(projection=ccrs.LambertConformal(central_lon, central_lat)) \n",
    "ax.set_extent([-100, -40, 5, 57]) \n",
    "ax.add_feature(cfeature.LAND, edgecolor='black')\n",
    "\n",
    "gl=ax.gridlines(draw_labels = True, x_inline=False, y_inline=False)\n",
    "gl.top_labels = False\n",
    "ax.set_title('Atlantic Hurricane Tracks (1950-2012)')\n",
    "\n",
    "for (name, data) in iter(hurricanes.items()):\n",
    "    if data['year'] == 2011 and numpy.any(numpy.array(data['category']) >= 3):\n",
    "        longitude = data['longitude']\n",
    "        latitude = data['latitude']\n",
    "        for i in range(len(longitude) - 1):\n",
    "            color = category_color[data['category'][i]]\n",
    "            ax.plot(longitude[i:i+2], latitude[i:i+2], linewidth=1.5, color=color, transform = ccrs.Geodetic())\n",
    "\n",
    "for (category, color) in iter(category_color.items()):\n",
    "    ax.plot([0], [0], color=color, label=\"Category %s\" % category)\n",
    "ax.legend(loc=2)\n",
    "\n",
    "plt.show()"
   ]
  },
  {
   "cell_type": "markdown",
   "metadata": {},
   "source": [
    "## Statistics of Hurricanes\n",
    "\n",
    "Now let us look at some statistics related to the number of hurricanes in the Atlantic each year from 1950 onward.  We will also look at the mean and a \"windowed\" mean of the data."
   ]
  },
  {
   "cell_type": "code",
   "execution_count": null,
   "metadata": {},
   "outputs": [],
   "source": [
    "fig = plt.figure()\n",
    "axes = fig.add_subplot(1, 1, 1)\n",
    "axes.plot(range(1950, 2021, 1), num_hurricanes, 'o-')\n",
    "axes.plot((1950, 2013), (num_hurricanes.mean(), num_hurricanes.mean()), 'r')\n",
    "\n",
    "# Compute rolling average\n",
    "num_hurricanes_mean = numpy.zeros(15)\n",
    "for i in range(0, 2021-1950, 5):\n",
    "    num_hurricanes_mean[i//5] = num_hurricanes[i:i+5].mean()\n",
    "    \n",
    "axes.plot(range(1950, 2021, 5), num_hurricanes_mean, 'ko--')\n",
    "axes.set_xlim((1950, 2021))\n",
    "axes.set_title(\"Hurricanes Each Year\")\n",
    "axes.set_xlabel(\"Year\")\n",
    "axes.set_ylabel(\"Number\")\n",
    "\n",
    "plt.show()"
   ]
  },
  {
   "cell_type": "markdown",
   "metadata": {},
   "source": [
    "## Recap \n",
    "\n",
    "* What did we learn to do today? \n",
    "* What are some issues that came up? \n",
    "* Below are some more datasets. Take a look and see what kinds of questions you can come up that you want to explore? \n",
    "\n",
    "[The **C**ollection of **R**eally **G**reat, **I**nteresting, **S**ituated **D**atasets](https://think.cs.vt.edu/corgis/python/index.html)"
   ]
  }
 ],
 "metadata": {
  "kernelspec": {
   "display_name": "Python 3",
   "language": "python",
   "name": "python3"
  },
  "language_info": {
   "codemirror_mode": {
    "name": "ipython",
    "version": 3
   },
   "file_extension": ".py",
   "mimetype": "text/x-python",
   "name": "python",
   "nbconvert_exporter": "python",
   "pygments_lexer": "ipython3",
   "version": "3.9.9"
  },
  "latex_envs": {
   "bibliofile": "biblio.bib",
   "cite_by": "apalike",
   "current_citInitial": 1,
   "eqLabelWithNumbers": true,
   "eqNumInitial": 0
  }
 },
 "nbformat": 4,
 "nbformat_minor": 1
}
