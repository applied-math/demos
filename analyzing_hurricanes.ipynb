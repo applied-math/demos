{
 "cells": [
  {
   "cell_type": "code",
   "execution_count": 3,
   "metadata": {
    "collapsed": false
   },
   "outputs": [],
   "source": [
    "%matplotlib inline\n",
    "import numpy\n",
    "import matplotlib.pyplot as plt\n",
    "import datetime\n",
    "from mpl_toolkits.basemap import Basemap"
   ]
  },
  {
   "cell_type": "markdown",
   "metadata": {},
   "source": [
    "# Data Science\n",
    "\n",
    "Today one of the fastest growing fields that touches all of our lives is that of data science.  Data science attempts to look at the incredible amount of data that each and every one of us produces every day on services like facebook, twitter, instagram, snap chat, or just our cell-phones.  It also is important for analyzing the world around us which is what we will experiment with today.\n",
    "\n",
    "## Hurricanes in the Atlantic\n",
    "\n",
    "Below we are going to play with the historical tracks of hurricanes in the Atlantic basin since 1950.  We will see how we even a modest amount of data can lead to intelligible results but if we ask the right questions, interesting answers may reveal themselves."
   ]
  },
  {
   "cell_type": "markdown",
   "metadata": {},
   "source": [
    "First off we have to load the data.  This is both the most unglorious but important part.  If we cannot gain access to the data we cannot ask any questions of it.  Our text file today is very small (~37,000 entries) but of course would be too much to for a human to read."
   ]
  },
  {
   "cell_type": "code",
   "execution_count": 4,
   "metadata": {
    "collapsed": false
   },
   "outputs": [],
   "source": [
    "# Load data\n",
    "hurricanes = {}\n",
    "current_name = None\n",
    "num_hurricanes = numpy.zeros(63, dtype=int)\n",
    "cache = [[], [], [], [], [], [], [], [], []]\n",
    "\n",
    "with open(\"hurdat2.txt\", 'r') as hurdat_data:\n",
    "    for line in hurdat_data:\n",
    "        split_data = line.split()\n",
    "        year = int(split_data[0])\n",
    "        month = int(split_data[1])\n",
    "        day = int(split_data[2])\n",
    "        hour = int(split_data[3])\n",
    "        if split_data[5] == \"NOT\" and split_data[6] == \"NAMED\":\n",
    "            pass\n",
    "        else:\n",
    "            name = split_data[5]\n",
    "            lat = float(split_data[6])\n",
    "            lon = float(split_data[7])\n",
    "            wind_speed = float(split_data[8])\n",
    "            pressure = float(split_data[9])\n",
    "        \n",
    "            # Categorize hurricanes (wind speed in knots)\n",
    "            if wind_speed >= 64 and wind_speed < 83:\n",
    "                category = 1\n",
    "            elif wind_speed >= 83 and wind_speed < 96:\n",
    "                category = 2\n",
    "            elif wind_speed >= 96 and wind_speed < 113:\n",
    "                category = 3\n",
    "            elif wind_speed >= 113 and wind_speed < 135:\n",
    "                category = 4\n",
    "            elif wind_speed >= 135:\n",
    "                category = 5\n",
    "            else:\n",
    "                category = 0\n",
    "        \n",
    "            if name != current_name:\n",
    "                hurricanes[current_name] = {'year':cache[0][:], \n",
    "                                            'month':cache[1][:], \n",
    "                                            'day':cache[2][:], \n",
    "                                            'hour':cache[3][:], \n",
    "                                            'latitude':cache[4][:], \n",
    "                                            'longitude':cache[5][:], \n",
    "                                            'wind speed':cache[6][:], \n",
    "                                            'pressure':cache[7][:], \n",
    "                                            'category':cache[8][:]}\n",
    "                cache = [[], [], [], [], [], [], [], [], []]\n",
    "                current_name = name\n",
    "\n",
    "                # Count huricanes\n",
    "                num_hurricanes[year - 1950] +=  1\n",
    "\n",
    "            cache[0].append(year)\n",
    "            cache[1].append(month)\n",
    "            cache[2].append(day)\n",
    "            cache[3].append(hour)\n",
    "            cache[4].append(lat)\n",
    "            cache[5].append(lon)\n",
    "            cache[6].append(wind_speed)\n",
    "            cache[7].append(pressure)\n",
    "            cache[8].append(category)\n",
    "            \n",
    "# Remove empty hurricanes\n",
    "for name in hurricanes.keys():\n",
    "    if len(hurricanes[name]['year']) == 0:\n",
    "        data = hurricanes.pop(name)"
   ]
  },
  {
   "cell_type": "code",
   "execution_count": 5,
   "metadata": {
    "collapsed": false
   },
   "outputs": [],
   "source": [
    "# Plot the data\n",
    "category_color = {5:'red', 4:'yellow', 3:'orange', 2:'green', 1:'blue', 0:'gray'}\n",
    "fig = plt.figure(figsize=(15,9))\n",
    "axes = fig.add_subplot(1, 1, 1)\n",
    "mapping = Basemap(llcrnrlon=-100.0, llcrnrlat=0.0, urcrnrlon=-20.0, urcrnrlat=57.0,\n",
    "                  projection='lcc', lat_1=20.0, lat_2=40.0, lon_0=-60.0,\n",
    "                  resolution ='l', area_thresh=1000.0)\n",
    "\n",
    "for (name, data) in hurricanes.iteritems():\n",
    "    longitude, latitude = mapping(data['longitude'], data['latitude'])\n",
    "    mapping.plot(longitude, latitude, linewidth=1.5, color='r')\n",
    "\n",
    "mapping.drawcoastlines()\n",
    "mapping.drawcountries()\n",
    "mapping.fillcontinents()\n",
    "mapping.drawparallels(numpy.arange(10,70,20), labels=[1,1,0,0])\n",
    "mapping.drawmeridians(numpy.arange(-100,0,20), labels=[0,0,0,1])\n",
    "axes.set_title('Atlantic Hurricane Tracks (1950-2012)')\n",
    "plt.show()"
   ]
  },
  {
   "cell_type": "code",
   "execution_count": 6,
   "metadata": {
    "collapsed": false
   },
   "outputs": [],
   "source": [
    "# Plot the data\n",
    "category_color = {5:'red', 4:'yellow', 3:'orange', 2:'green', 1:'blue', 0:'gray'}\n",
    "fig = plt.figure(figsize=(15,9))\n",
    "axes = fig.add_subplot(1, 1, 1)\n",
    "mapping = Basemap(llcrnrlon=-100.0, llcrnrlat=0.0, urcrnrlon=-20.0, urcrnrlat=57.0,\n",
    "                  projection='lcc', lat_1=20.0, lat_2=40.0, lon_0=-60.0,\n",
    "                  resolution ='l', area_thresh=1000.0)\n",
    "\n",
    "for (name, data) in hurricanes.iteritems():\n",
    "    longitude, latitude = mapping(data['longitude'], data['latitude'])\n",
    "    for i in xrange(len(longitude) - 1):\n",
    "        color = category_color[data['category'][i]]\n",
    "        mapping.plot(longitude[i:i+2], latitude[i:i+2], linewidth=1.5, color=color)\n",
    "\n",
    "mapping.drawcoastlines()\n",
    "mapping.drawcountries()\n",
    "mapping.fillcontinents()\n",
    "mapping.drawparallels(numpy.arange(10,70,20), labels=[1,1,0,0])\n",
    "mapping.drawmeridians(numpy.arange(-100,0,20), labels=[0,0,0,1])\n",
    "axes.set_title('Atlantic Hurricane Tracks (1950-2012)')\n",
    "for (category, color) in category_color.iteritems():\n",
    "    axes.plot([0], [0], color=color, label=\"Category %s\" % category)\n",
    "axes.legend(loc=2)\n",
    "plt.show()"
   ]
  },
  {
   "cell_type": "markdown",
   "metadata": {},
   "source": [
    "The data is still pretty hard to discern as it looks like colorful spaghetti.  We can ask more specific questions such as \n",
    " - Which storms happened in 2010?\n",
    " - What storms were category 3 or above?\n",
    " - Where did Hurricane Sandy go?"
   ]
  },
  {
   "cell_type": "code",
   "execution_count": 7,
   "metadata": {
    "collapsed": false
   },
   "outputs": [],
   "source": [
    "# Plot the data\n",
    "category_color = {5:'red', 4:'yellow', 3:'orange', 2:'green', 1:'blue', 0:'gray'}\n",
    "fig = plt.figure(figsize=(15,9))\n",
    "axes = fig.add_subplot(1, 1, 1)\n",
    "mapping = Basemap(llcrnrlon=-100.0, llcrnrlat=0.0, urcrnrlon=-20.0, urcrnrlat=57.0,\n",
    "                  projection='lcc', lat_1=20.0, lat_2=40.0, lon_0=-60.0,\n",
    "                  resolution ='l', area_thresh=1000.0)\n",
    "\n",
    "for (name, data) in hurricanes.iteritems():\n",
    "    if data['year'][0] == 2011 and numpy.any(numpy.array(data['category']) >= 3):\n",
    "#     if name == \"KATRINA\":\n",
    "        longitude, latitude = mapping(data['longitude'], data['latitude'])\n",
    "        for i in xrange(len(longitude) - 1):\n",
    "            color = category_color[data['category'][i]]\n",
    "            mapping.plot(longitude[i:i+2], latitude[i:i+2], linewidth=1.5, color=color)\n",
    "\n",
    "mapping.drawcoastlines()\n",
    "mapping.drawcountries()\n",
    "mapping.fillcontinents()\n",
    "mapping.drawparallels(numpy.arange(10,70,20), labels=[1,1,0,0])\n",
    "mapping.drawmeridians(numpy.arange(-100,0,20), labels=[0,0,0,1])\n",
    "axes.set_title('Atlantic Hurricane Tracks (1950-2012)')\n",
    "for (category, color) in category_color.iteritems():\n",
    "    axes.plot([0], [0], color=color, label=\"Category %s\" % category)\n",
    "axes.legend(loc=2)\n",
    "plt.show()"
   ]
  },
  {
   "cell_type": "code",
   "execution_count": 8,
   "metadata": {
    "collapsed": false
   },
   "outputs": [],
   "source": [
    "fig = plt.figure()\n",
    "axes = fig.add_subplot(1, 1, 1)\n",
    "axes.plot(range(1950, 2013, 1), num_hurricanes, 'o-')\n",
    "axes.plot((1950, 2013), (num_hurricanes.mean(), num_hurricanes.mean()), 'r')\n",
    "# Compute rolling average\n",
    "num_hurricanes_mean = numpy.zeros(12)\n",
    "for i in xrange(0,60,5):\n",
    "    num_hurricanes_mean[i/5] = num_hurricanes[i:i+5].mean()\n",
    "axes.plot(range(1950, 2010, 5), num_hurricanes_mean, 'ko--')\n",
    "axes.set_xlim((1950, 2013))\n",
    "axes.set_title(\"Hurricanes Each Year\")\n",
    "axes.set_xlabel(\"Year\")\n",
    "axes.set_ylabel(\"Number\")\n",
    "plt.show()"
   ]
  },
  {
   "cell_type": "code",
   "execution_count": 10,
   "metadata": {
    "collapsed": false
   },
   "outputs": [],
   "source": [
    "fig = plt.figure()\n",
    "axes = fig.add_subplot(1, 1, 1)\n",
    "axes.hist(num_hurricanes, bins=20) # Play with number of bins\n",
    "axes.set_title(\"Numbers of Hurricanes per Year\")\n",
    "axes.set_xlabel(\"Number of Hurricanes\")\n",
    "axes.set_ylabel(\"Frequency\")\n",
    "plt.show()"
   ]
  },
  {
   "cell_type": "code",
   "execution_count": null,
   "metadata": {
    "collapsed": true
   },
   "outputs": [],
   "source": []
  }
 ],
 "metadata": {
  "kernelspec": {
   "display_name": "Python 2",
   "language": "python",
   "name": "python2"
  },
  "language_info": {
   "codemirror_mode": {
    "name": "ipython",
    "version": 2
   },
   "file_extension": ".py",
   "mimetype": "text/x-python",
   "name": "python",
   "nbconvert_exporter": "python",
   "pygments_lexer": "ipython2",
   "version": "2.7.11"
  },
  "latex_envs": {
   "bibliofile": "biblio.bib",
   "cite_by": "apalike",
   "current_citInitial": 1,
   "eqLabelWithNumbers": true,
   "eqNumInitial": 0
  }
 },
 "nbformat": 4,
 "nbformat_minor": 0
}
